{
 "cells": [
  {
   "cell_type": "code",
   "execution_count": 1,
   "metadata": {},
   "outputs": [],
   "source": [
    "# data analysis\n",
    "import numpy as np\n",
    "import pandas as pd\n",
    "import sys\n",
    "import glob\n",
    "\n",
    "# plotting\n",
    "import matplotlib\n",
    "import matplotlib.pyplot as plt\n",
    "%matplotlib notebook\n",
    "matplotlib.rcParams['figure.figsize'] = [8,6]"
   ]
  },
  {
   "cell_type": "code",
   "execution_count": 2,
   "metadata": {},
   "outputs": [
    {
     "name": "stdout",
     "output_type": "stream",
     "text": [
      "#std mu0_andy = 5.250480e-02\n",
      "#std phi_andy = 2.874982e+06\n",
      "#binarized mu0_andy = 5.456231e-02\n",
      "#binarized phi_andy = 2.762913e+06\n",
      "#nonbinarized mu0_andy = 7.745263e-02\n",
      "#nonbinarized phi_andy = 2.499300e+06\n",
      "#std mu0_philip = 5.803148e-02\n",
      "#std phi_philip = 1.294178e+06\n",
      "#binarized mu0_philip = 5.661529e-02\n",
      "#binarized phi_philip = 1.293733e+06\n",
      "#nonbinarized mu0_philip = 8.491951e-02\n",
      "#nonbinarized phi_philip = 8.298516e+05\n"
     ]
    },
    {
     "name": "stderr",
     "output_type": "stream",
     "text": [
      "/usr/lib/python3.7/site-packages/ipykernel_launcher.py:24: UserWarning: genfromtxt: Empty input file: \"/home/lukas/projects/antibiotics/experiments/200129_AllData/andy/andy_WT/estimateMSP.std.-IPTG\"\n",
      "/usr/lib/python3.7/site-packages/ipykernel_launcher.py:24: UserWarning: genfromtxt: Empty input file: \"/home/lukas/projects/antibiotics/experiments/200129_AllData/andy/andy_Triple/estimateMSP.std.-IPTG\"\n",
      "/usr/lib/python3.7/site-packages/ipykernel_launcher.py:24: UserWarning: genfromtxt: Empty input file: \"/home/lukas/projects/antibiotics/experiments/200129_AllData/andy/andy_WT/estimateMSP.binarized.-IPTG\"\n",
      "/usr/lib/python3.7/site-packages/ipykernel_launcher.py:24: UserWarning: genfromtxt: Empty input file: \"/home/lukas/projects/antibiotics/experiments/200129_AllData/andy/andy_Triple/estimateMSP.binarized.-IPTG\"\n",
      "/usr/lib/python3.7/site-packages/ipykernel_launcher.py:24: UserWarning: genfromtxt: Empty input file: \"/home/lukas/projects/antibiotics/experiments/200129_AllData/andy/andy_WT/estimateMSP.nonbinarized.-IPTG\"\n",
      "/usr/lib/python3.7/site-packages/ipykernel_launcher.py:24: UserWarning: genfromtxt: Empty input file: \"/home/lukas/projects/antibiotics/experiments/200129_AllData/andy/andy_Triple/estimateMSP.nonbinarized.-IPTG\"\n"
     ]
    }
   ],
   "source": [
    "datadir = '/home/lukas/projects/antibiotics/experiments/200129_AllData/'\n",
    "\n",
    "\n",
    "############################\n",
    "### compute phi          ###\n",
    "############################\n",
    "\n",
    "mu_tau_prod  = 1.\n",
    "mu_tau_count = 0\n",
    "mu0_sum      = 0.\n",
    "mu0_count    = 0\n",
    "\n",
    "methods = ['std','binarized','nonbinarized']\n",
    "experiments = ['andy','philip']\n",
    "for e in experiments:\n",
    "    #print('\\n***** ' + e + ' ******')\n",
    "    for method in methods:\n",
    "        mu_tau_prod  = 1.\n",
    "        mu_tau_count = 0\n",
    "        mu0_sum      = 0.\n",
    "        mu0_count    = 0\n",
    "\n",
    "        for fn in glob.glob(datadir + e + '/' + e + '_*/estimateMSP.'+method+'*'):\n",
    "            a = np.genfromtxt(fn)\n",
    "            if len(a) > 0:\n",
    "                if ('WT' in fn and e == 'andy') or ('None' in fn and e == 'philip'):\n",
    "                    mu0_sum   += np.sum(a[:,1])\n",
    "                    mu0_count += len(a[:,1])\n",
    "\n",
    "                mu_tau_prod   *= np.prod(np.sqrt(a[:,1]) / a[:,3])\n",
    "                mu_tau_count  += len(a[:,1])\n",
    "\n",
    "        mu0 = mu0_sum/mu0_count\n",
    "        phi = np.power(mu_tau_prod,1./mu_tau_count)/np.sqrt(mu0)    \n",
    "\n",
    "        #print('\\nmethod = {}'.format(method))\n",
    "        print('#{} mu0_{} = {:.6e}'.format(method,e,mu0))\n",
    "        print('#{} phi_{} = {:.6e}'.format(method,e,phi))"
   ]
  },
  {
   "cell_type": "code",
   "execution_count": null,
   "metadata": {},
   "outputs": [],
   "source": []
  }
 ],
 "metadata": {
  "kernelspec": {
   "display_name": "Python 3",
   "language": "python",
   "name": "python3"
  },
  "language_info": {
   "codemirror_mode": {
    "name": "ipython",
    "version": 3
   },
   "file_extension": ".py",
   "mimetype": "text/x-python",
   "name": "python",
   "nbconvert_exporter": "python",
   "pygments_lexer": "ipython3",
   "version": "3.7.6"
  }
 },
 "nbformat": 4,
 "nbformat_minor": 2
}
