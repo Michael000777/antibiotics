{
 "cells": [
  {
   "cell_type": "code",
   "execution_count": 1,
   "metadata": {},
   "outputs": [],
   "source": [
    "import numpy as np\n",
    "import sys,math\n",
    "sys.path.append('/home/lukas/projects/antibiotics/programs/')\n",
    "import platereaderclass as prc\n",
    "from plates_EstimateMSP import estimate_Tau_sMIC_linearFit_AsFuncOfB\n",
    "\n",
    "import matplotlib\n",
    "import matplotlib.pyplot as plt\n",
    "from ipywidgets import interact, interactive, fixed, interact_manual\n",
    "import ipywidgets as widgets\n",
    "\n",
    "%matplotlib inline\n",
    "matplotlib.rcParams['figure.figsize'] = [12,8]\n",
    "matplotlib.rc('font',family='Monospace')\n",
    "\n",
    "np.seterr(all='ignore')"
   ]
  },
  {
   "cell_type": "code",
   "execution_count": 2,
   "metadata": {},
   "outputs": [],
   "source": [
    "datafile1        = '/home/lukas/projects/antibiotics/experiments/191206_philip_data/august2019_philip.xlsx'\n",
    "designassignment = [0,0,0,0,0,0,0,0, 0,0,1,1,1,1,0,0]"
   ]
  },
  {
   "cell_type": "code",
   "execution_count": 3,
   "metadata": {},
   "outputs": [],
   "source": [
    "data      = prc.PlateReaderData(infiles = [datafile1],DesignAssignment = designassignment)\n",
    "threshold = data.EstimateGrowthThreshold(dataID = None)"
   ]
  },
  {
   "cell_type": "code",
   "execution_count": 6,
   "metadata": {},
   "outputs": [],
   "source": [
    "PlotExtension = 10 ** 1.5\n",
    "FitPoints     = 40\n",
    "\n",
    "alltransitions = dict()\n",
    "alltransitions_GPR = dict()\n",
    "\n",
    "#compute everything in advance\n",
    "for title in data.titles:\n",
    "    idx = data.titles.index(title)\n",
    "    alltransitions[title]     = data.compute_growth_nogrowth_transition(idx,threshold)\n",
    "    alltransitions_GPR[title] = data.compute_growth_nogrowth_transition_GPR(idx,threshold, gridsize=100)\n"
   ]
  },
  {
   "cell_type": "code",
   "execution_count": 11,
   "metadata": {},
   "outputs": [
    {
     "data": {
      "application/vnd.jupyter.widget-view+json": {
       "model_id": "9de41d643316458aaa3fe659c517ae56",
       "version_major": 2,
       "version_minor": 0
      },
      "text/plain": [
       "interactive(children=(Dropdown(description='Experiment', options=('G238S None 1', 'G238S None 2', 'G238S High …"
      ]
     },
     "metadata": {},
     "output_type": "display_data"
    }
   ],
   "source": [
    "\n",
    "@interact\n",
    "def ManualFit(Experiment = data.titles, Transitions = ['standard','GPR'], ShowInocula = True, IdenticalRanges = True, ShowAllTransitions = False,Tau_Exponent = (-8.,-3.), sMIC_Exponent = (-3.,3.), xi = (0.0,2.0,.1)):\n",
    "    tr = dict()\n",
    "    idx = data.titles.index(Experiment)\n",
    "    if Transitions == 'standard':\n",
    "        if ShowAllTransitions:\n",
    "            tr = alltransitions.copy()\n",
    "        else:\n",
    "            tr[Experiment] = alltransitions[Experiment]\n",
    "    elif Transitions == 'GPR':\n",
    "        if ShowAllTransitions:\n",
    "            tr = alltransitions_GPR.copy()\n",
    "        else:\n",
    "            tr[Experiment] = alltransitions_GPR[Experiment]\n",
    "    \n",
    "    \n",
    "    platedesign = data.get_design(dataID = idx)\n",
    "    if ShowInocula: plt.scatter(platedesign[0],platedesign[1],c='#d3d7cf',s=10,zorder = 10)\n",
    "    \n",
    "    plt.yscale('log')\n",
    "    plt.xscale('log')\n",
    "    if IdenticalRanges:\n",
    "        xra = (1e-2,1e4)\n",
    "        yra = (1e0,1e8)\n",
    "    else:\n",
    "        xra = (np.min(platedesign[0])/PlotExtension,np.max(platedesign[0])*PlotExtension)\n",
    "        yra = (np.min(platedesign[1])/PlotExtension,np.max(platedesign[1])*PlotExtension)\n",
    "\n",
    "    plt.xlim(xra)\n",
    "    plt.ylim(yra)\n",
    "    \n",
    "    npoints = np.exp(np.linspace(np.log(yra[0]), np.log(yra[-1]), num = FitPoints))\n",
    "    bpoints = 10 ** (sMIC_Exponent) * np.exp(np.power(10 ** (Tau_Exponent) * (npoints - 1), 1./xi))\n",
    "     \n",
    "    plt.plot(bpoints, npoints, c = '#f57900', zorder = 200)\n",
    "    \n",
    "    for title in tr.keys():\n",
    "        c = '#babdb6'\n",
    "        zorder = 20\n",
    "        if title == Experiment:\n",
    "            c = '#3465a4'\n",
    "            zorder = 100\n",
    "        plt.scatter(tr[title][:,0], tr[title][:,1], s = 40, c = c,zorder = zorder)\n",
    "\n",
    "    plt.legend(['TAU = {:.3e}, sMIC = {:.3e}'.format(10**Tau_Exponent, 10**sMIC_Exponent)])\n",
    "    "
   ]
  },
  {
   "cell_type": "code",
   "execution_count": null,
   "metadata": {},
   "outputs": [],
   "source": []
  }
 ],
 "metadata": {
  "kernelspec": {
   "display_name": "Python 3",
   "language": "python",
   "name": "python3"
  },
  "language_info": {
   "codemirror_mode": {
    "name": "ipython",
    "version": 3
   },
   "file_extension": ".py",
   "mimetype": "text/x-python",
   "name": "python",
   "nbconvert_exporter": "python",
   "pygments_lexer": "ipython3",
   "version": "3.7.5"
  }
 },
 "nbformat": 4,
 "nbformat_minor": 2
}
